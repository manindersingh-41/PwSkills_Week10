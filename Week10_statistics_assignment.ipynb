{
 "cells": [
  {
   "cell_type": "markdown",
   "id": "504b1c0d-967b-43df-aec2-419a92127596",
   "metadata": {},
   "source": [
    "# Week 10 Statistics Assignemnt"
   ]
  },
  {
   "cell_type": "markdown",
   "id": "27f41dca-5db2-43b4-b163-5b651fb64d38",
   "metadata": {},
   "source": [
    "### Q1. What is Statistics?"
   ]
  },
  {
   "cell_type": "markdown",
   "id": "d30b0564-54c3-407d-8331-5b2bd9b0adaa",
   "metadata": {},
   "source": [
    "Statistics is a branch of maths and scientific disipline that deals with collecting, organising, analyzing, interpreting, presenting and making conclusions from data. It is a fundamental tool used in various fields, including science, business, economics, social sciences and more, to understand patterns.\n",
    "Statistics is used to describe, summarise data and make predictions and test hypotheses.\n",
    "\n",
    "Statistics is of two types:\n",
    "+ Descriptive Statistics\n",
    "+ Inferential Statiscs"
   ]
  },
  {
   "cell_type": "markdown",
   "id": "a4c1fe2a-cfe0-40bf-a382-4c36297ee3ca",
   "metadata": {},
   "source": [
    "### Q2. Define the different types of statistics and give an example of when each type might be used."
   ]
  },
  {
   "cell_type": "markdown",
   "id": "99960446-8c55-48ae-bd79-a40de6223211",
   "metadata": {},
   "source": [
    "There are mainly two types of statics:\n",
    "+ Descriptive Statistics\n",
    "+ Inferential Statistics\n",
    "\n",
    "**Descriptive Statistics** : Descriptive Statistics is used to summarize and describe data. It can be used to calculate things like the mean, median, mode, etc. \n",
    "Descriptive Statistics can be used to answer questions like:\n",
    "+ What is average height of all students in class.\n",
    "+ What is most common eye color among people in world?\n",
    "+ What is per capita income in any country?\n",
    "\n",
    "\n",
    "**Inferential Statistics** : Inferential Statistics is used to make inferences about a population based on sample of data. It can be used to test hypostheses, make predictions, and estimate population parameters. Inferential statistics can be used to answer questions like:\n",
    "+ Is new drug effective in treating a particular disease?\n",
    "+ Is there a relationship between smoking and lung cancer?\n",
    "+ What is the probability that a particular candidate will win an election?"
   ]
  },
  {
   "cell_type": "markdown",
   "id": "3d798135-4487-48bd-84b7-8793b4a84b69",
   "metadata": {},
   "source": [
    "### Q3. What are the different types of data and how do they differ from each other? Provide an example of each type of data."
   ]
  },
  {
   "cell_type": "markdown",
   "id": "35c8384c-6c29-49c5-9c79-5553a87633d4",
   "metadata": {},
   "source": [
    "There are main two types of data :\n",
    "+ Qualitative \n",
    "+ Quantitative\n",
    "\n",
    "**Qualitative data** : Qualitative data is data that is descriptive and cannot be measure numerically. It is often collected through surveys, interviews and focus groups.\n",
    "Example of Qualitative data includes : \n",
    "+ Gender\n",
    "+ Religion\n",
    "+ Race\n",
    "+ Customer Satisfaction\n",
    "\n",
    "\n",
    "**Quantitative data** : Quantitative data is data that is numerical and can be measured. It is often collected through experiments, surveys and other forms of research. Example of quantitative data includes:\n",
    "+ Age\n",
    "+ Height\n",
    "+ Weight\n",
    "+ Number of Customers"
   ]
  },
  {
   "cell_type": "markdown",
   "id": "0b1fdd08-5baa-4d22-abc7-d1f76e0d1a5d",
   "metadata": {},
   "source": [
    "### Q4. Categorise the following datasets with respect to quantitative and qualitative data types:\n",
    "#### (i) Grading in exam: A+, A, B+, B, C+, C, D, E\n",
    "\n",
    "#### (ii) Colour of mangoes: yellow, green, orange, red\n",
    "\n",
    "#### (iii) Height data of a class: [178.9, 179, 179.5, 176, 177.2, 178.3, 175.8,...]\n",
    "\n",
    "#### (iv) Number of mangoes exported by a farm: [500, 600, 478, 672, ...]"
   ]
  },
  {
   "cell_type": "markdown",
   "id": "ccc796bc-405e-48db-9877-82413c1d654c",
   "metadata": {},
   "source": [
    "(i) Qualitative Data\n",
    "\n",
    "(ii) Qualitative Data\n",
    "\n",
    "(iii) Quantitative Data\n",
    "\n",
    "(iv) Quantitative Data"
   ]
  },
  {
   "cell_type": "markdown",
   "id": "60134b13-ad2f-42ca-8ede-5c00daa2d816",
   "metadata": {},
   "source": [
    "### Q5. Explain the concept of levels of measurement and give an example of a variable for each level."
   ]
  },
  {
   "cell_type": "markdown",
   "id": "0d847999-5988-48bb-8d36-da74b25f7831",
   "metadata": {},
   "source": [
    "Levels of measurement are a way to classify variables based on degree to which they can be measured and compared. There are four levels of measurement: nominal, ordinal, interval and ratio.\n",
    "\n",
    "**Nominal data** is lowest level of measurement. It is used to categorize data into different groups. There is no order or ranking to the categories. Examples of nominal data include:\n",
    "+ Gender\n",
    "+ Eye colour\n",
    "\n",
    "**Ordinal Data** is the second level of measurement. It is used to rank data in order. However, the intervals between the ranks are not necessarily equal. Examples include:\n",
    "+ Customer satisfaction (Satisfied, Neutral, Dissatisfied)\n",
    "+ Product Rating( 1 star, 2 star...., 5 star)\n",
    "\n",
    "\n",
    "**Interval Data** is the third level of measurement. It is used to measure data on scale with equal intervals. However, there is no true zero point. Exampl:\n",
    "+ Temperature (in degrees Celsius or Fahrenheit)\n",
    "+ Time (in second, minutes or hours)\n",
    "\n",
    "\n",
    "**Ratio Data** is the highest level of measurement. It is used to measure data on a scale with equal intervals and true zero point. Examples of ratio data include:\n",
    "+ Height\n",
    "+ Weight\n",
    "+ Age"
   ]
  },
  {
   "cell_type": "markdown",
   "id": "3bf90d2a-4273-4147-ad1d-e0e7fbf301ee",
   "metadata": {},
   "source": [
    "### Q6. Why is it important to understand the level of measurement when analyzing data? Provide an example to illustrate your answer."
   ]
  },
  {
   "cell_type": "markdown",
   "id": "98abbbdf-0533-4915-bd76-14e333db8bd6",
   "metadata": {},
   "source": [
    "It is important to understand the level of measurement when analyzing data because it determines what statistical tests are appropriate to use. Using the wrong statistical test can result in inaccurate or misleading results.\n",
    "\n",
    "For instance, if we have nominal data, such as gender, you can only calculate the frequency distribution and the percentage of people in each category. you cannot calculate the mean, median, or mode, because these statistics require that the data be ordered or ranked.\n",
    "\n",
    "If we have ordinal data, such as customer satisfaction, we can calculate the frequency of distribution, the percenatge of people in each category and the median.\n",
    "\n",
    "If we have interval data such as temperature, we can calculate the frequency distribution, the percentage of people in each category, the mean, median and mode.\n",
    "\n",
    "If we have ration data, such as height, we can calculate all the statistics that we can calculate for interval data, as well as ratios between two variables. for example we could calculate ratio of height to weight to get measure of body mass index."
   ]
  },
  {
   "cell_type": "markdown",
   "id": "490f30b5-2c67-4a00-b47f-52561c7389fa",
   "metadata": {},
   "source": [
    "### Q7. How nominal data type is different from ordinal data type."
   ]
  },
  {
   "cell_type": "markdown",
   "id": "3a8c998b-269f-4270-8c8b-e91f133911ce",
   "metadata": {},
   "source": [
    "The main and clear difference between nominal data and ordinal data is that nominal data can only be categorised whereas ordinal data can be categorised as well as ranked.\n",
    "\n",
    "**Nominal Data** is lowest level of measurement . It is used to categorise data into different groups. There is no order or ranking to the categories. Examples:\n",
    "+ Gender\n",
    "+ Eye Color\n",
    "\n",
    "\n",
    "**Ordinal data** is second level of measurement. It is used to rank data in order. however, the intervals between ranks are not necessarily equal. Examples:\n",
    "+ Customer Satisfaction\n",
    "+ Product Rating\n"
   ]
  },
  {
   "cell_type": "markdown",
   "id": "7df12a0b-7b12-43bc-909d-53cb74c8aef9",
   "metadata": {},
   "source": [
    "### Q8. Which type of plot can be used to display data in terms of range?"
   ]
  },
  {
   "cell_type": "markdown",
   "id": "a8d063cd-90cd-49df-9ffe-c5f5baf24553",
   "metadata": {},
   "source": [
    "The best type of The best type of plot to display data in terms of range is a range plot. A range plot is a type of bar chart that shows the range of values for each category. It is similar to a regular bar chart, but instead of showing a single value for each category, it shows two values: the minimum and maximum values.\n",
    "\n",
    "To create a range plot, you would first need to calculate the range for each category. The range is simply the difference between the minimum and maximum values. Once you have calculated the range for each category, you can create the plot by plotting the minimum and maximum values for each category."
   ]
  },
  {
   "cell_type": "markdown",
   "id": "66928e14-ead6-4441-81b8-0980269a25a5",
   "metadata": {},
   "source": [
    "### Q9. Describe the difference between descriptive and inferential statistics. Give an example of each type of statistics and explain how they are used."
   ]
  },
  {
   "cell_type": "markdown",
   "id": "e29d3198-248c-4e34-90fa-407a72c59103",
   "metadata": {},
   "source": [
    "**Descriptive statistics** is used to summarize and describe data. It can be used to calculate things like the mean, median, mode, standard deviation, and percentiles. Descriptive statistics can be used to answer questions like:\n",
    "+ What is the average height of all adults in the United States?\n",
    "+ What is the most common eye color among people in the world?\n",
    "\n",
    "**Example of descriptive statistics:**\n",
    "A company might use descriptive statistics to track customer trends or to predict future sales. For example, the company might calculate the average number of customers who visit a store each day, or the median amount of money that customers spend. This information can be used to develop marketing strategies and to allocate resources.\n",
    "\n",
    "\n",
    "\n",
    "**Inferential statistics** is used to make inferences about a population based on a sample of data. It can be used to test hypotheses, make predictions, and estimate population parameters. Inferential statistics can be used to answer questions like:\n",
    "\n",
    "+ Is a new drug effective in treating a particular disease?\n",
    "+ Is there a relationship between smoking and lung cancer?\n",
    "\n",
    "\n",
    "**Example of inferential statistics:**\n",
    "\n",
    "A pharmaceutical company might use inferential statistics to test the effectiveness of a new drug in a clinical trial. The company might randomly assign patients to receive either the new drug or a placebo. After a period of time, the company would compare the outcomes of the two groups to see if there is a significant difference. If the new drug is significantly more effective than the placebo, the company might conclude that the drug is safe and effective."
   ]
  },
  {
   "cell_type": "markdown",
   "id": "d55d3bc4-b279-4b8a-be0c-08c1452d6c9a",
   "metadata": {},
   "source": [
    "### Q10. What are some common measures of central tendency and variability used in statistics? Explain how each measure can be used to describe a dataset."
   ]
  },
  {
   "cell_type": "markdown",
   "id": "4661dec3-2dc0-4052-8c4a-23c7eef8302d",
   "metadata": {},
   "source": [
    "Some common measures of central tendency and variability used in statistics include:\n",
    "\n",
    "**Measures of central tendency:**\n",
    "\n",
    "**Mean**: The arithmetic average of all the values in a dataset.\n",
    "\n",
    "**Median**: The middle value in a dataset when the values are arranged in order from least to greatest.\n",
    "\n",
    "**Mode**: The most frequent value in a dataset.\n",
    "\n",
    "**Measures of variability:**\n",
    "\n",
    "**Range**: The difference between the largest and smallest values in a dataset.\n",
    "\n",
    "**Standard deviation**: A measure of how spread out the values in a dataset are around the mean.\n"
   ]
  },
  {
   "cell_type": "code",
   "execution_count": null,
   "id": "2b0d02b0-6d1a-4a3d-8263-6534ddbbf4e8",
   "metadata": {},
   "outputs": [],
   "source": []
  }
 ],
 "metadata": {
  "kernelspec": {
   "display_name": "Python 3 (ipykernel)",
   "language": "python",
   "name": "python3"
  },
  "language_info": {
   "codemirror_mode": {
    "name": "ipython",
    "version": 3
   },
   "file_extension": ".py",
   "mimetype": "text/x-python",
   "name": "python",
   "nbconvert_exporter": "python",
   "pygments_lexer": "ipython3",
   "version": "3.10.8"
  }
 },
 "nbformat": 4,
 "nbformat_minor": 5
}
