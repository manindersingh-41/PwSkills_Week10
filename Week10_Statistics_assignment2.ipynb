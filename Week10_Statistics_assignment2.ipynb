{
 "cells": [
  {
   "cell_type": "markdown",
   "id": "2d387dcb-5020-4f7f-8ce6-d734646c7ca8",
   "metadata": {},
   "source": [
    "# Week 10 Statistics Assignment 2"
   ]
  },
  {
   "cell_type": "markdown",
   "id": "0638753c-72da-4cfd-87a2-7678b2333667",
   "metadata": {},
   "source": [
    "### Q1. What are the three measures of central tendency?"
   ]
  },
  {
   "cell_type": "markdown",
   "id": "f18cb2a5-7486-4f20-9fc8-0c0938ac0ea6",
   "metadata": {},
   "source": [
    "The three measures of central tendency are:\n",
    "+ **Mean** : The mean is the average of all the values in a dataset. It is Calculated by adding up all the values and dividing by the number of values.\n",
    "\n",
    "+ **Median** : The median is the middle value in a dataset when the values are arranged in order from least to greatest.\n",
    "\n",
    "+ **Mode** : The mode is the most frequent value in a dataset.\n",
    "    \n",
    "    \n",
    "Dataset = 1,2,3,4,5,6,7,8,9,10\n",
    "\n",
    "**Mean** = (1+2+3+4+5+6+7+8+9+10)/10 = 5.5\n",
    "\n",
    "**Median** : The median is middle value of dataset when arranged in order. here are 10 values, so median is average of 5 and 6 values in dataset.\n",
    "median = (5+6)/2 = 5.5\n",
    "\n",
    "**Mode** : The mode is most frequent value in dataset. As all elements occur only once so there is no mode."
   ]
  },
  {
   "cell_type": "markdown",
   "id": "cca3024a-2298-4ef3-bad3-2df6d50b27b2",
   "metadata": {},
   "source": [
    "### Q2. What is the difference between the mean, median, and mode? How are they used to measure the central tendency of a dataset?"
   ]
  },
  {
   "cell_type": "markdown",
   "id": "2038b5ab-b2e9-4a19-92a3-53e8bdb5b639",
   "metadata": {},
   "source": [
    "**Mean**\n",
    "\n",
    "The mean is the average of all the values in a dataset. It is calculated by adding up all the values and dividing by the number of values. The mean is the most common measure of central tendency, but it can be affected by outliers, which are values that are much higher or lower than the rest of the data.\n",
    "\n",
    "Example:\n",
    "\n",
    "data = 1, 2, 3, 4, 5,5, 6, 7, 8, 9, 10\n",
    "\n",
    "Mean: (1 + 2 + 3 + 4 + 5 + 5 + 6 + 7 + 8 + 9 + 10) / 10 = 6\n",
    "\n",
    "**Median**\n",
    "\n",
    "The median is the middle value in a dataset when the values are arranged in order from least to greatest. If the dataset has an even number of values, the median is the average of the two middle values. The median is less affected by outliers than the mean, making it a better measure of central tendency for skewed data.\n",
    "\n",
    "Example:\n",
    "\n",
    " The median is the middle value in the dataset when the values are arranged in order. Since the dataset has 11 values, the median is the central values. Therefore, the median is 5.\n",
    "\n",
    "**Mode**\n",
    "\n",
    "The mode is the most frequent value in a dataset. It is not always a good measure of central tendency for skewed data, as it can be misleading.\n",
    "\n",
    "Example\n",
    "\n",
    " The mode is the most frequent value in the dataset. In this dataset, the mode is 5, since it appears twice."
   ]
  },
  {
   "cell_type": "markdown",
   "id": "88d1b008-ee14-47be-92d0-836ecd706dc8",
   "metadata": {},
   "source": [
    "### Q3. Measure the three measures of central tendency for the given height data:\n",
    "\n",
    "[178,177,176,177,178.2,178,175,179,180,175,178.9,176.2,177,172.5,178,176.5]"
   ]
  },
  {
   "cell_type": "code",
   "execution_count": 21,
   "id": "17fdea5a-d97e-47af-88ce-4c431e54b60f",
   "metadata": {},
   "outputs": [
    {
     "name": "stdout",
     "output_type": "stream",
     "text": [
      "Mean :  177\n",
      "Median :  177\n",
      "mode :     height\n",
      "0   177.0\n",
      "1   178.0\n"
     ]
    }
   ],
   "source": [
    "import pandas as pd\n",
    "heights = [178,177,176,177,178.2,178,175,179,180,175,178.9,176.2,177,172.5,178,176.5]\n",
    "df = pd.DataFrame(data = heights, columns=['height'])\n",
    "mean = int(df.mean())\n",
    "median = int(df.median())\n",
    "mode = df.mode()\n",
    "\n",
    "print('Mean : ',mean)\n",
    "print('Median : ',median)\n",
    "print('mode : ',mode)"
   ]
  },
  {
   "cell_type": "markdown",
   "id": "0bac16b4-2e1d-44f7-88c6-3306d258436a",
   "metadata": {},
   "source": [
    "### Q4. Find the standard deviation for the given data:\n",
    "[178,177,176,177,178.2,178,175,179,180,175,178.9,176.2,177,172.5,178,176.5]"
   ]
  },
  {
   "cell_type": "code",
   "execution_count": 24,
   "id": "6388d2bf-c80b-41ac-aa7e-88abbeb39665",
   "metadata": {},
   "outputs": [
    {
     "name": "stdout",
     "output_type": "stream",
     "text": [
      "standard deviation :  1.7885814036548633\n"
     ]
    }
   ],
   "source": [
    "import numpy as np\n",
    "data = [178,177,176,177,178.2,178,175,179,180,175,178.9,176.2,177,172.5,178,176.5]\n",
    "print('standard deviation : ',np.std(data))"
   ]
  },
  {
   "cell_type": "markdown",
   "id": "b2224882-9e44-4a31-8817-eb347f672e6f",
   "metadata": {},
   "source": [
    "### Q5. How are measures of dispersion such as range, variance, and standard deviation used to describe the spread of a dataset? Provide an example."
   ]
  },
  {
   "cell_type": "markdown",
   "id": "288431e3-a1ad-4d73-9136-e356127a66f7",
   "metadata": {},
   "source": [
    "**Range**\n",
    "\n",
    "The range is the simplest measure of dispersion. It is calculated by subtracting the smallest value in the dataset from the largest value. The range is easy to calculate, but it can be misleading if the dataset has a small number of values or if there are outliers.\n",
    "\n",
    "for example we take following data : \n",
    "1, 2, 3, 4, 5, 6, 7, 8, 9, 100\n",
    "\n",
    "Range = 99\n",
    "\n",
    "**Variance**\n",
    "\n",
    "The variance is a more sophisticated measure of dispersion than the range. It is calculated by taking the average of the squared deviations from the mean. The variance is a better measure of dispersion than the range because it takes into account all of the values in the dataset, not just the smallest and largest values.\n",
    "\n",
    "\n",
    "\n",
    "**Standard deviation**\n",
    "\n",
    "The standard deviation is the square root of the variance. It is the most commonly used measure of dispersion because it is easy to understand and interpret. The standard deviation tells us how close the values in a dataset are to the mean. A lower standard deviation means that the values in the dataset are closer to the mean, while a higher standard deviation means that the values in the dataset are more spread out.\n",
    "\n"
   ]
  },
  {
   "cell_type": "code",
   "execution_count": 28,
   "id": "9bcb85ec-b354-4bf3-96d5-6bc05abcf7cc",
   "metadata": {},
   "outputs": [
    {
     "name": "stdout",
     "output_type": "stream",
     "text": [
      "variance : 909\n",
      "Standard Deviation :  30\n"
     ]
    }
   ],
   "source": [
    "# Example\n",
    "import pandas as pd\n",
    "data = [1, 2, 3, 4, 5, 6, 7, 8, 9, 100]\n",
    "df = pd.DataFrame(data = data,columns = ['a'])\n",
    "variance = int(df.var())\n",
    "std = int(df.std())\n",
    "print('variance :', variance)\n",
    "print('Standard Deviation : ',std)"
   ]
  },
  {
   "cell_type": "markdown",
   "id": "a42d5265-0cf9-4b82-991d-7164ea23589f",
   "metadata": {},
   "source": [
    "### Q6. What is a Venn diagram?"
   ]
  },
  {
   "cell_type": "markdown",
   "id": "cca1a363-154e-404f-8fdf-f024fe4f0393",
   "metadata": {},
   "source": [
    "\n",
    "A Venn diagram is a graphical representation of the relationships between different sets. It is a widely used tool in mathematics, statistics, logic, and other fields.\n",
    "\n",
    "A Venn diagram typically consists of overlapping circles, with each circle representing a set. The elements of a set are represented by points inside the corresponding circle. The intersection of two circles represents the elements that are in both sets. The union of two circles represents the elements that are in either set or both sets."
   ]
  },
  {
   "cell_type": "markdown",
   "id": "5331162a-53ff-4268-893c-9d1491561ba6",
   "metadata": {},
   "source": [
    "### Q7. For the two given sets A = (2,3,4,5,6,7) & B = (0,2,6,8,10). Find:\n",
    "\n",
    "(i) A B\n",
    "\n",
    "(ii) A ⋃ B"
   ]
  },
  {
   "cell_type": "markdown",
   "id": "6c9b70b5-f4c1-4f8c-9d52-71a9f8a5c73d",
   "metadata": {},
   "source": [
    "(i)  A `intersection` B = (2,6)\n",
    "\n",
    "(ii) A U B = (0,2,3,4,5,6,7,8,10)"
   ]
  },
  {
   "cell_type": "markdown",
   "id": "13ed0bf6-4f3a-4b55-b0fb-b9006610596f",
   "metadata": {},
   "source": [
    "### Q8. What do you understand about skewness in data?"
   ]
  },
  {
   "cell_type": "markdown",
   "id": "9443ed77-30c1-406f-a525-d0b31ba669d4",
   "metadata": {},
   "source": [
    "**Skewness** in data is a measure of how asymmetric a distribution is. A symmetric distribution is one where the left and right halves of the distribution are mirror images of each other. A skewed distribution is one where the left and right halves of the distribution are not mirror images of each other.\n",
    "\n",
    "There are two types of skewness: \n",
    "+ positive skewness\n",
    "+ negative skewness.\n",
    "\n",
    "**Positive skewness**: A distribution is positively skewed if the tail of the distribution is longer on the right side than on the left side. This means that there are more values at the lower end of the distribution and fewer values at the higher end of the distribution.\n",
    "\n",
    "**Negative skewness**: A distribution is negatively skewed if the tail of the distribution is longer on the left side than on the right side. This means that there are more values at the higher end of the distribution and fewer values at the lower end of the distribution."
   ]
  },
  {
   "cell_type": "markdown",
   "id": "37ddc14c-5ee1-4c53-afbc-71c74cc92d27",
   "metadata": {},
   "source": [
    "### Q9. If a data is right skewed then what will be the position of median with respect to mean?"
   ]
  },
  {
   "cell_type": "markdown",
   "id": "b0332117-1a48-49c2-8dc6-0137b6b5435b",
   "metadata": {},
   "source": [
    "In a right-skewed data set, the median is less than the mean. This is because the median is the middle value in the data set, and the mean is pulled to the right by the long tail of data points on the right side of the distribution.\n",
    "\n",
    "For example, consider the following data set:\n",
    "\n",
    "1, 2, 3, 4, 5, 6, 7, 8, 9, 100\n",
    "This data set is right-skewed, because there are more data points on the left side of the distribution than on the right side of the distribution. \n",
    "\n",
    "The median of the data set is 5, and the mean of the data set is 12.5. \n",
    "\n",
    "As you can see, the Median is less than the Mean."
   ]
  },
  {
   "cell_type": "markdown",
   "id": "214b2a08-1a5c-498f-920a-baa9114b1c97",
   "metadata": {},
   "source": [
    "### Q10. Explain the difference between covariance and correlation. How are these measures used in statistical analysis?"
   ]
  },
  {
   "cell_type": "markdown",
   "id": "a9d5aefa-7ed9-498a-b38a-572cc24fa790",
   "metadata": {},
   "source": [
    "The main difference between covariance and correlation is that covariance is a measure of the linear relationship between two variables, while correlation is a measure of the strength and direction of the linear relationship between two variables.\n",
    "\n",
    "**Covariance**\n",
    "\n",
    "Covariance is calculated by taking the average of the product of the deviations from the mean of the two variables. The covariance can be positive, negative, or zero. A positive covariance indicates a positive linear relationship between the two variables, while a negative covariance indicates a negative linear relationship between the two variables. A covariance of zero indicates that there is no linear relationship between the two variables.\n",
    "\n",
    "**Correlation**\n",
    "\n",
    "Correlation is calculated by dividing the covariance by the product of the standard deviations of the two variables. The correlation coefficient is a unitless value that ranges from -1 to 1. A correlation coefficient of 1 indicates a perfect positive linear relationship between the two variables, while a correlation coefficient of -1 indicates a perfect negative linear relationship between the two variables. A correlation coefficient of 0 indicates that there is no linear relationship between the two variables."
   ]
  },
  {
   "cell_type": "markdown",
   "id": "7ab63c20-e84d-4bce-b728-8f02fcf5f57d",
   "metadata": {},
   "source": [
    "### Q11. What is the formula for calculating the sample mean? Provide an example calculation for a dataset."
   ]
  },
  {
   "cell_type": "markdown",
   "id": "85fca287-5e56-47f7-bc99-5c6a1d027db8",
   "metadata": {},
   "source": [
    "The formula for calculating the sample mean is :\n",
    "X = Σ(xi)/n\n",
    "where :\n",
    "X is the sample mean\n",
    "xi is each value in the sample\n",
    "n is the number of values in the sample\n",
    "\n",
    "Example : \n",
    "\n",
    "let data = 1,2,3,4,5\n",
    "\n",
    "To calculate the sample mean, we first add all the values in dataset:\n",
    "1+2+3+4+5 = 15\n",
    "\n",
    "Now for finding mean, we divide the sum with total number values : \n",
    "15/5 = 3\n",
    "\n",
    "mean = 3"
   ]
  },
  {
   "cell_type": "markdown",
   "id": "d2b73ab2-ff20-403b-8911-24a273b7c87c",
   "metadata": {},
   "source": [
    "### Q12. For a normal distribution data what is the relationship between its measure of central tendency?"
   ]
  },
  {
   "cell_type": "markdown",
   "id": "286a4760-53de-4557-afd0-548da6c83967",
   "metadata": {},
   "source": [
    "In a normal distribution, the mean, median, and mode are all equal. This means that the center of the distribution and the most frequent value are the same.\n",
    "\n",
    "This is because a normal distribution is symmetrical, with the same number of values on either side of the mean. The mean is the average of all the values in the distribution, so it is also the center of the distribution. The median is the middle value in the distribution, and the mode is the most frequent value in the distribution.\n",
    "\n",
    "This relationship between the measures of central tendency is only true for a normal distribution. In other types of distributions, the mean, median, and mode may not be equal."
   ]
  },
  {
   "cell_type": "markdown",
   "id": "dbb1db8b-0a3b-426c-8336-95f66a5c9b06",
   "metadata": {},
   "source": [
    "### Q13. How is covariance different from correlation?"
   ]
  },
  {
   "cell_type": "markdown",
   "id": "d0d50f47-6078-42bd-8a4b-5ae981db67be",
   "metadata": {},
   "source": [
    "The main difference between covariance and correlation is that covariance is a measure of the linear relationship between two variables, while correlation is a measure of the strength and direction of the linear relationship between two variables.\n",
    "\n",
    "**Covariance**\n",
    "\n",
    "Covariance is calculated by taking the average of the product of the deviations from the mean of the two variables. The covariance can be positive, negative, or zero. A positive covariance indicates a positive linear relationship between the two variables, while a negative covariance indicates a negative linear relationship between the two variables. A covariance of zero indicates that there is no linear relationship between the two variables.\n",
    "\n",
    "**Correlation**\n",
    "\n",
    "Correlation is calculated by dividing the covariance by the product of the standard deviations of the two variables. The correlation coefficient is a unitless value that ranges from -1 to 1. A correlation coefficient of 1 indicates a perfect positive linear relationship between the two variables, while a correlation coefficient of -1 indicates a perfect negative linear relationship between the two variables. A correlation coefficient of 0 indicates that there is no linear relationship between the two variables."
   ]
  },
  {
   "cell_type": "markdown",
   "id": "224e2ae5-bb4e-4650-9b6f-350966d9cbb1",
   "metadata": {},
   "source": [
    "### Q14. How do outliers affect measures of central tendency and dispersion? Provide an example."
   ]
  },
  {
   "cell_type": "markdown",
   "id": "e2a1a421-5645-49b9-acdc-dfd6d939438a",
   "metadata": {},
   "source": [
    "Outliers can have a significant impact on measures of central tendency and dispersion.\n",
    "\n",
    "Measures of central tendency\n",
    "\n",
    "The mean, median, and mode are the three most common measures of central tendency.\n",
    "\n",
    "Dataset: 1, 2, 3, 4, 5, 5, 6, 7, 8, 9, 10\n",
    "\n",
    "Mean: (1 + 2 + 3 + 4 + 5 + 5 + 6 + 7 + 8 + 9 + 10+12) / 12 = 6\n",
    "\n",
    "Median: The median is the middle value in the dataset when the values are arranged in order. Since the dataset has even  values, the median is the average of 6 and 7 values which are 5 and 6. Therefore, the median is (5+6)/2 = 5.5.\n",
    "\n",
    "Mode: The mode is the most frequent value in the dataset. In this dataset, the mode is 5, since it appears twice.\n",
    "\n",
    "\n",
    "Now lets Dataset : 1,2,3,4,5,5,6,7,8,9,10,100\n",
    "\n",
    "Now, Mean = (1+2+3+4+5+5+6+7+8+9+10+12+100)/13 = 13.23\n",
    "\n",
    "Median : As dataset has odd number of values, so the median will be central value. the central value is 6. \n",
    "\n",
    "Mode : The mode is most freqyebt value, i.e., 5 as it occrued twice.\n",
    "\n",
    "\n",
    "As we can see the without the outlier 100, the mean was 6 but with value 100, the mean jumps to 13.23. This drastic change in value signifies its incorrectness."
   ]
  },
  {
   "cell_type": "code",
   "execution_count": null,
   "id": "0698418b-ad19-439a-b875-4c7bbbac794b",
   "metadata": {},
   "outputs": [],
   "source": []
  }
 ],
 "metadata": {
  "kernelspec": {
   "display_name": "Python 3 (ipykernel)",
   "language": "python",
   "name": "python3"
  },
  "language_info": {
   "codemirror_mode": {
    "name": "ipython",
    "version": 3
   },
   "file_extension": ".py",
   "mimetype": "text/x-python",
   "name": "python",
   "nbconvert_exporter": "python",
   "pygments_lexer": "ipython3",
   "version": "3.10.8"
  }
 },
 "nbformat": 4,
 "nbformat_minor": 5
}
